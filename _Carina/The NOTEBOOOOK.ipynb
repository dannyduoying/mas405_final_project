{
 "cells": [
  {
   "cell_type": "markdown",
   "id": "fb3baa79",
   "metadata": {},
   "source": [
    "## the NOTEBOOOOK "
   ]
  },
  {
   "cell_type": "markdown",
   "id": "c448fa2a",
   "metadata": {},
   "source": [
    "Here were importing the libraries we need "
   ]
  },
  {
   "cell_type": "code",
   "execution_count": 15,
   "id": "646a51a5",
   "metadata": {},
   "outputs": [],
   "source": []
  },
  {
   "cell_type": "markdown",
   "id": "bac13430",
   "metadata": {},
   "source": [
    "Here we input Angles ROuser information, connect to Angles database, and get a dataframe back"
   ]
  },
  {
   "cell_type": "code",
   "execution_count": 32,
   "id": "f33de083",
   "metadata": {},
   "outputs": [
    {
     "name": "stdout",
     "output_type": "stream",
     "text": [
      "Requirement already satisfied: pymysql in c:\\users\\carina kalaydjian\\appdata\\local\\programs\\python\\python310\\lib\\site-packages (1.0.2)\n",
      "Requirement already satisfied: pandas in c:\\users\\carina kalaydjian\\appdata\\local\\programs\\python\\python310\\lib\\site-packages (1.4.2)\n",
      "Requirement already satisfied: pytz>=2020.1 in c:\\users\\carina kalaydjian\\appdata\\local\\programs\\python\\python310\\lib\\site-packages (from pandas) (2022.1)\n",
      "Requirement already satisfied: numpy>=1.21.0 in c:\\users\\carina kalaydjian\\appdata\\local\\programs\\python\\python310\\lib\\site-packages (from pandas) (1.22.4)\n",
      "Requirement already satisfied: python-dateutil>=2.8.1 in c:\\users\\carina kalaydjian\\appdata\\local\\programs\\python\\python310\\lib\\site-packages (from pandas) (2.8.2)\n",
      "Requirement already satisfied: six>=1.5 in c:\\users\\carina kalaydjian\\appdata\\local\\programs\\python\\python310\\lib\\site-packages (from python-dateutil>=2.8.1->pandas) (1.16.0)\n"
     ]
    },
    {
     "name": "stderr",
     "output_type": "stream",
     "text": [
      "C:\\Users\\Carina Kalaydjian\\AppData\\Local\\Programs\\Python\\Python310\\lib\\site-packages\\pandas\\io\\sql.py:761: UserWarning: pandas only support SQLAlchemy connectable(engine/connection) ordatabase string URI or sqlite3 DBAPI2 connectionother DBAPI2 objects are not tested, please consider using SQLAlchemy\n",
      "  warnings.warn(\n"
     ]
    },
    {
     "name": "stdout",
     "output_type": "stream",
     "text": [
      "                                                Sonnets\n",
      "0     that due to thee did give, for how do i enscon...\n",
      "1     then hate me when i forgot why with the bett’r...\n",
      "2     which by and by a virgin hand disarm’d. and st...\n",
      "3     but that which thou must leave ere long. the o...\n",
      "4     thus can my muse brings forth, which many legi...\n",
      "...                                                 ...\n",
      "4995  or else of thee hast left behind, how have min...\n",
      "4996  but here’s the joy; my friend and me! but yet ...\n",
      "4997  and look upon this bloody tyrant, time? and lo...\n",
      "4998  but weep to have, that which gives thee releas...\n",
      "4999  full many a vanish’d sight: or else of thee th...\n",
      "\n",
      "[5000 rows x 1 columns]\n",
      "<class 'pandas.core.frame.DataFrame'>\n",
      "Index(['Sonnets'], dtype='object')\n"
     ]
    },
    {
     "data": {
      "text/html": [
       "<div>\n",
       "<style scoped>\n",
       "    .dataframe tbody tr th:only-of-type {\n",
       "        vertical-align: middle;\n",
       "    }\n",
       "\n",
       "    .dataframe tbody tr th {\n",
       "        vertical-align: top;\n",
       "    }\n",
       "\n",
       "    .dataframe thead th {\n",
       "        text-align: right;\n",
       "    }\n",
       "</style>\n",
       "<table border=\"1\" class=\"dataframe\">\n",
       "  <thead>\n",
       "    <tr style=\"text-align: right;\">\n",
       "      <th></th>\n",
       "      <th>Sonnets</th>\n",
       "    </tr>\n",
       "  </thead>\n",
       "  <tbody>\n",
       "    <tr>\n",
       "      <th>0</th>\n",
       "      <td>that due to thee did give, for how do i enscon...</td>\n",
       "    </tr>\n",
       "    <tr>\n",
       "      <th>1</th>\n",
       "      <td>then hate me when i forgot why with the bett’r...</td>\n",
       "    </tr>\n",
       "    <tr>\n",
       "      <th>2</th>\n",
       "      <td>which by and by a virgin hand disarm’d. and st...</td>\n",
       "    </tr>\n",
       "    <tr>\n",
       "      <th>3</th>\n",
       "      <td>but that which thou must leave ere long. the o...</td>\n",
       "    </tr>\n",
       "    <tr>\n",
       "      <th>4</th>\n",
       "      <td>thus can my muse brings forth, which many legi...</td>\n",
       "    </tr>\n",
       "  </tbody>\n",
       "</table>\n",
       "</div>"
      ],
      "text/plain": [
       "                                             Sonnets\n",
       "0  that due to thee did give, for how do i enscon...\n",
       "1  then hate me when i forgot why with the bett’r...\n",
       "2  which by and by a virgin hand disarm’d. and st...\n",
       "3  but that which thou must leave ere long. the o...\n",
       "4  thus can my muse brings forth, which many legi..."
      ]
     },
     "execution_count": 32,
     "metadata": {},
     "output_type": "execute_result"
    }
   ],
   "source": [
    "!pip install pymysql\n",
    "!pip install pandas\n",
    "\n",
    "import pymysql\n",
    "import pandas as pd\n",
    "\n",
    "##########################\n",
    "\n",
    "MAS405_AWS_ANGEL_DB_ROUSER_PW = 'Password12345'\n",
    "MAS405_AWS_ANGEL_DB_ROUSER_HOST = 'database-1.cgxqpqgnm2yp.us-west-1.rds.amazonaws.com'\n",
    "MAS405_AWS_ANGEL_DB_ROUSER_USER = 'ROuser'\n",
    "MAS405_AWS_ANGEL_DB_ROUSER_DBNAME = 'MyDB'\n",
    "MAS405_AWS_ANGEL_DB_ROUSER_PORT = 3306\n",
    "\n",
    "con = pymysql.connect(host = MAS405_AWS_ANGEL_DB_ROUSER_HOST, user = MAS405_AWS_ANGEL_DB_ROUSER_USER, password = MAS405_AWS_ANGEL_DB_ROUSER_PW, database=MAS405_AWS_ANGEL_DB_ROUSER_DBNAME, port=MAS405_AWS_ANGEL_DB_ROUSER_PORT)\n",
    "\n",
    "#im not entierly sure why we need this line but it seems like its instantiating a family of functions that help extract information from the con\n",
    "#okay maybe dont need line below \n",
    "#cursor = con.cursor()\n",
    "\n",
    "query1 = 'select * from Sonnets'\n",
    "#sent to data base here and the returning result is a pandas data frame \n",
    "dataframe = pd.read_sql(query1, con)\n",
    "print(dataframe)\n",
    "print(type(dataframe))\n",
    "\n",
    "print(dataframe.columns)"
   ]
  },
  {
   "cell_type": "markdown",
   "id": "4c32fabe",
   "metadata": {},
   "source": [
    "## nlp part"
   ]
  },
  {
   "cell_type": "code",
   "execution_count": 22,
   "id": "a87fa9bb",
   "metadata": {},
   "outputs": [
    {
     "name": "stdout",
     "output_type": "stream",
     "text": [
      "Requirement already satisfied: nltk in c:\\users\\carina kalaydjian\\appdata\\local\\programs\\python\\python310\\lib\\site-packages (3.7)\n",
      "Requirement already satisfied: regex>=2021.8.3 in c:\\users\\carina kalaydjian\\appdata\\local\\programs\\python\\python310\\lib\\site-packages (from nltk) (2022.4.24)\n",
      "Requirement already satisfied: joblib in c:\\users\\carina kalaydjian\\appdata\\local\\programs\\python\\python310\\lib\\site-packages (from nltk) (1.1.0)\n",
      "Requirement already satisfied: tqdm in c:\\users\\carina kalaydjian\\appdata\\local\\programs\\python\\python310\\lib\\site-packages (from nltk) (4.64.0)\n",
      "Requirement already satisfied: click in c:\\users\\carina kalaydjian\\appdata\\local\\programs\\python\\python310\\lib\\site-packages (from nltk) (8.1.3)\n",
      "Requirement already satisfied: colorama in c:\\users\\carina kalaydjian\\appdata\\local\\programs\\python\\python310\\lib\\site-packages (from click->nltk) (0.4.4)\n"
     ]
    },
    {
     "name": "stderr",
     "output_type": "stream",
     "text": [
      "[nltk_data] Downloading package punkt to C:\\Users\\Carina\n",
      "[nltk_data]     Kalaydjian\\AppData\\Roaming\\nltk_data...\n",
      "[nltk_data]   Package punkt is already up-to-date!\n",
      "[nltk_data] Downloading package stopwords to C:\\Users\\Carina\n",
      "[nltk_data]     Kalaydjian\\AppData\\Roaming\\nltk_data...\n",
      "[nltk_data]   Package stopwords is already up-to-date!\n"
     ]
    },
    {
     "ename": "ModuleNotFoundError",
     "evalue": "No module named 'rake_nltk'",
     "output_type": "error",
     "traceback": [
      "\u001b[1;31m---------------------------------------------------------------------------\u001b[0m",
      "\u001b[1;31mModuleNotFoundError\u001b[0m                       Traceback (most recent call last)",
      "Input \u001b[1;32mIn [22]\u001b[0m, in \u001b[0;36m<cell line: 5>\u001b[1;34m()\u001b[0m\n\u001b[0;32m      2\u001b[0m nltk\u001b[38;5;241m.\u001b[39mdownload(\u001b[38;5;124m'\u001b[39m\u001b[38;5;124mpunkt\u001b[39m\u001b[38;5;124m'\u001b[39m)\n\u001b[0;32m      3\u001b[0m nltk\u001b[38;5;241m.\u001b[39mdownload(\u001b[38;5;124m'\u001b[39m\u001b[38;5;124mstopwords\u001b[39m\u001b[38;5;124m'\u001b[39m) \n\u001b[1;32m----> 5\u001b[0m \u001b[38;5;28;01mfrom\u001b[39;00m \u001b[38;5;21;01mrake_nltk\u001b[39;00m \u001b[38;5;28;01mimport\u001b[39;00m Rake\n\u001b[0;32m      7\u001b[0m r \u001b[38;5;241m=\u001b[39m Rake()\n\u001b[0;32m      9\u001b[0m r\u001b[38;5;241m.\u001b[39mextract_keywords_from_text(extract_text())\n",
      "\u001b[1;31mModuleNotFoundError\u001b[0m: No module named 'rake_nltk'"
     ]
    }
   ],
   "source": [
    "!pip install nltk\n",
    "nltk.download('punkt')\n",
    "nltk.download('stopwords') \n",
    "\n",
    "from rake_nltk import Rake\n",
    "\n",
    "r = Rake()\n",
    "\n",
    "r.extract_keywords_from_text(extract_text())\n",
    "\n",
    "for rating, keyword in r.get_ranked_phrases_with_scores():\n",
    "    if rating > 5:\n",
    "        print(rating, keyword)"
   ]
  },
  {
   "cell_type": "code",
   "execution_count": 35,
   "id": "ba2f08f6",
   "metadata": {},
   "outputs": [
    {
     "name": "stdout",
     "output_type": "stream",
     "text": [
      "Requirement already satisfied: keybert in c:\\users\\carina kalaydjian\\appdata\\local\\programs\\python\\python310\\lib\\site-packages (0.5.1)\n",
      "Requirement already satisfied: sentence-transformers>=0.3.8 in c:\\users\\carina kalaydjian\\appdata\\local\\programs\\python\\python310\\lib\\site-packages (from keybert) (2.2.0)\n",
      "Requirement already satisfied: scikit-learn>=0.22.2 in c:\\users\\carina kalaydjian\\appdata\\local\\programs\\python\\python310\\lib\\site-packages (from keybert) (1.1.1)\n",
      "Requirement already satisfied: numpy>=1.18.5 in c:\\users\\carina kalaydjian\\appdata\\local\\programs\\python\\python310\\lib\\site-packages (from keybert) (1.22.4)\n",
      "Requirement already satisfied: rich>=10.4.0 in c:\\users\\carina kalaydjian\\appdata\\local\\programs\\python\\python310\\lib\\site-packages (from keybert) (12.4.1)\n",
      "Requirement already satisfied: commonmark<0.10.0,>=0.9.0 in c:\\users\\carina kalaydjian\\appdata\\local\\programs\\python\\python310\\lib\\site-packages (from rich>=10.4.0->keybert) (0.9.1)\n",
      "Requirement already satisfied: pygments<3.0.0,>=2.6.0 in c:\\users\\carina kalaydjian\\appdata\\local\\programs\\python\\python310\\lib\\site-packages (from rich>=10.4.0->keybert) (2.12.0)\n",
      "Requirement already satisfied: joblib>=1.0.0 in c:\\users\\carina kalaydjian\\appdata\\local\\programs\\python\\python310\\lib\\site-packages (from scikit-learn>=0.22.2->keybert) (1.1.0)\n",
      "Requirement already satisfied: scipy>=1.3.2 in c:\\users\\carina kalaydjian\\appdata\\local\\programs\\python\\python310\\lib\\site-packages (from scikit-learn>=0.22.2->keybert) (1.8.1)\n",
      "Requirement already satisfied: threadpoolctl>=2.0.0 in c:\\users\\carina kalaydjian\\appdata\\local\\programs\\python\\python310\\lib\\site-packages (from scikit-learn>=0.22.2->keybert) (3.1.0)\n",
      "Requirement already satisfied: transformers<5.0.0,>=4.6.0 in c:\\users\\carina kalaydjian\\appdata\\local\\programs\\python\\python310\\lib\\site-packages (from sentence-transformers>=0.3.8->keybert) (4.19.2)\n",
      "Requirement already satisfied: tqdm in c:\\users\\carina kalaydjian\\appdata\\local\\programs\\python\\python310\\lib\\site-packages (from sentence-transformers>=0.3.8->keybert) (4.64.0)\n",
      "Requirement already satisfied: torch>=1.6.0 in c:\\users\\carina kalaydjian\\appdata\\local\\programs\\python\\python310\\lib\\site-packages (from sentence-transformers>=0.3.8->keybert) (1.11.0)\n",
      "Requirement already satisfied: torchvision in c:\\users\\carina kalaydjian\\appdata\\local\\programs\\python\\python310\\lib\\site-packages (from sentence-transformers>=0.3.8->keybert) (0.12.0)\n",
      "Requirement already satisfied: nltk in c:\\users\\carina kalaydjian\\appdata\\local\\programs\\python\\python310\\lib\\site-packages (from sentence-transformers>=0.3.8->keybert) (3.7)\n",
      "Requirement already satisfied: sentencepiece in c:\\users\\carina kalaydjian\\appdata\\local\\programs\\python\\python310\\lib\\site-packages (from sentence-transformers>=0.3.8->keybert) (0.1.96)\n",
      "Requirement already satisfied: huggingface-hub in c:\\users\\carina kalaydjian\\appdata\\local\\programs\\python\\python310\\lib\\site-packages (from sentence-transformers>=0.3.8->keybert) (0.6.0)\n",
      "Requirement already satisfied: typing-extensions in c:\\users\\carina kalaydjian\\appdata\\local\\programs\\python\\python310\\lib\\site-packages (from torch>=1.6.0->sentence-transformers>=0.3.8->keybert) (4.2.0)\n",
      "Requirement already satisfied: regex!=2019.12.17 in c:\\users\\carina kalaydjian\\appdata\\local\\programs\\python\\python310\\lib\\site-packages (from transformers<5.0.0,>=4.6.0->sentence-transformers>=0.3.8->keybert) (2022.4.24)\n",
      "Requirement already satisfied: requests in c:\\users\\carina kalaydjian\\appdata\\local\\programs\\python\\python310\\lib\\site-packages (from transformers<5.0.0,>=4.6.0->sentence-transformers>=0.3.8->keybert) (2.27.1)\n",
      "Requirement already satisfied: filelock in c:\\users\\carina kalaydjian\\appdata\\local\\programs\\python\\python310\\lib\\site-packages (from transformers<5.0.0,>=4.6.0->sentence-transformers>=0.3.8->keybert) (3.7.0)\n",
      "Requirement already satisfied: tokenizers!=0.11.3,<0.13,>=0.11.1 in c:\\users\\carina kalaydjian\\appdata\\local\\programs\\python\\python310\\lib\\site-packages (from transformers<5.0.0,>=4.6.0->sentence-transformers>=0.3.8->keybert) (0.12.1)\n",
      "Requirement already satisfied: pyyaml>=5.1 in c:\\users\\carina kalaydjian\\appdata\\local\\programs\\python\\python310\\lib\\site-packages (from transformers<5.0.0,>=4.6.0->sentence-transformers>=0.3.8->keybert) (6.0)\n",
      "Requirement already satisfied: packaging>=20.0 in c:\\users\\carina kalaydjian\\appdata\\local\\programs\\python\\python310\\lib\\site-packages (from transformers<5.0.0,>=4.6.0->sentence-transformers>=0.3.8->keybert) (21.3)\n",
      "Requirement already satisfied: colorama in c:\\users\\carina kalaydjian\\appdata\\local\\programs\\python\\python310\\lib\\site-packages (from tqdm->sentence-transformers>=0.3.8->keybert) (0.4.4)\n",
      "Requirement already satisfied: click in c:\\users\\carina kalaydjian\\appdata\\local\\programs\\python\\python310\\lib\\site-packages (from nltk->sentence-transformers>=0.3.8->keybert) (8.1.3)\n",
      "Requirement already satisfied: pillow!=8.3.*,>=5.3.0 in c:\\users\\carina kalaydjian\\appdata\\local\\programs\\python\\python310\\lib\\site-packages (from torchvision->sentence-transformers>=0.3.8->keybert) (9.1.1)\n",
      "Requirement already satisfied: pyparsing!=3.0.5,>=2.0.2 in c:\\users\\carina kalaydjian\\appdata\\local\\programs\\python\\python310\\lib\\site-packages (from packaging>=20.0->transformers<5.0.0,>=4.6.0->sentence-transformers>=0.3.8->keybert) (3.0.9)\n",
      "Requirement already satisfied: idna<4,>=2.5 in c:\\users\\carina kalaydjian\\appdata\\local\\programs\\python\\python310\\lib\\site-packages (from requests->transformers<5.0.0,>=4.6.0->sentence-transformers>=0.3.8->keybert) (3.3)\n",
      "Requirement already satisfied: urllib3<1.27,>=1.21.1 in c:\\users\\carina kalaydjian\\appdata\\local\\programs\\python\\python310\\lib\\site-packages (from requests->transformers<5.0.0,>=4.6.0->sentence-transformers>=0.3.8->keybert) (1.26.9)\n",
      "Requirement already satisfied: certifi>=2017.4.17 in c:\\users\\carina kalaydjian\\appdata\\local\\programs\\python\\python310\\lib\\site-packages (from requests->transformers<5.0.0,>=4.6.0->sentence-transformers>=0.3.8->keybert) (2022.5.18.1)\n",
      "Requirement already satisfied: charset-normalizer~=2.0.0 in c:\\users\\carina kalaydjian\\appdata\\local\\programs\\python\\python310\\lib\\site-packages (from requests->transformers<5.0.0,>=4.6.0->sentence-transformers>=0.3.8->keybert) (2.0.12)\n"
     ]
    }
   ],
   "source": [
    "!pip install keybert\n",
    "from keybert import KeyBERT"
   ]
  },
  {
   "cell_type": "code",
   "execution_count": 47,
   "id": "46dd89ff",
   "metadata": {},
   "outputs": [
    {
     "ename": "AttributeError",
     "evalue": "'Series' object has no attribute 'encode'",
     "output_type": "error",
     "traceback": [
      "\u001b[1;31m---------------------------------------------------------------------------\u001b[0m",
      "\u001b[1;31mAttributeError\u001b[0m                            Traceback (most recent call last)",
      "Input \u001b[1;32mIn [47]\u001b[0m, in \u001b[0;36m<cell line: 3>\u001b[1;34m()\u001b[0m\n\u001b[0;32m      1\u001b[0m \u001b[38;5;66;03m#\u001b[39;00m\n\u001b[1;32m----> 3\u001b[0m dfString \u001b[38;5;241m=\u001b[39m \u001b[43mdataframe\u001b[49m\u001b[43m[\u001b[49m\u001b[38;5;124;43m'\u001b[39;49m\u001b[38;5;124;43mSonnets\u001b[39;49m\u001b[38;5;124;43m'\u001b[39;49m\u001b[43m]\u001b[49m\u001b[38;5;241;43m.\u001b[39;49m\u001b[43mencode\u001b[49m(\u001b[38;5;124m'\u001b[39m\u001b[38;5;124mutf-8\u001b[39m\u001b[38;5;124m'\u001b[39m)\n\u001b[0;32m      4\u001b[0m \u001b[38;5;28mprint\u001b[39m(dfString)\n\u001b[0;32m      5\u001b[0m result\u001b[38;5;241m=\u001b[39m dfString\u001b[38;5;241m.\u001b[39mdtypes\n",
      "File \u001b[1;32m~\\AppData\\Local\\Programs\\Python\\Python310\\lib\\site-packages\\pandas\\core\\generic.py:5575\u001b[0m, in \u001b[0;36mNDFrame.__getattr__\u001b[1;34m(self, name)\u001b[0m\n\u001b[0;32m   5568\u001b[0m \u001b[38;5;28;01mif\u001b[39;00m (\n\u001b[0;32m   5569\u001b[0m     name \u001b[38;5;129;01mnot\u001b[39;00m \u001b[38;5;129;01min\u001b[39;00m \u001b[38;5;28mself\u001b[39m\u001b[38;5;241m.\u001b[39m_internal_names_set\n\u001b[0;32m   5570\u001b[0m     \u001b[38;5;129;01mand\u001b[39;00m name \u001b[38;5;129;01mnot\u001b[39;00m \u001b[38;5;129;01min\u001b[39;00m \u001b[38;5;28mself\u001b[39m\u001b[38;5;241m.\u001b[39m_metadata\n\u001b[0;32m   5571\u001b[0m     \u001b[38;5;129;01mand\u001b[39;00m name \u001b[38;5;129;01mnot\u001b[39;00m \u001b[38;5;129;01min\u001b[39;00m \u001b[38;5;28mself\u001b[39m\u001b[38;5;241m.\u001b[39m_accessors\n\u001b[0;32m   5572\u001b[0m     \u001b[38;5;129;01mand\u001b[39;00m \u001b[38;5;28mself\u001b[39m\u001b[38;5;241m.\u001b[39m_info_axis\u001b[38;5;241m.\u001b[39m_can_hold_identifiers_and_holds_name(name)\n\u001b[0;32m   5573\u001b[0m ):\n\u001b[0;32m   5574\u001b[0m     \u001b[38;5;28;01mreturn\u001b[39;00m \u001b[38;5;28mself\u001b[39m[name]\n\u001b[1;32m-> 5575\u001b[0m \u001b[38;5;28;01mreturn\u001b[39;00m \u001b[38;5;28;43mobject\u001b[39;49m\u001b[38;5;241;43m.\u001b[39;49m\u001b[38;5;21;43m__getattribute__\u001b[39;49m\u001b[43m(\u001b[49m\u001b[38;5;28;43mself\u001b[39;49m\u001b[43m,\u001b[49m\u001b[43m \u001b[49m\u001b[43mname\u001b[49m\u001b[43m)\u001b[49m\n",
      "\u001b[1;31mAttributeError\u001b[0m: 'Series' object has no attribute 'encode'"
     ]
    }
   ],
   "source": [
    "#\n",
    "\n",
    "dfString = dataframe['Sonnets'].encode('utf-8')\n",
    "print(dfString)\n",
    "result= dfString.dtypes\n",
    "print(result)\n",
    "\n",
    "\n",
    "\n",
    "doc = dataframe\n",
    "#print(doc)\n",
    "\n",
    "key_model1 = KeyBERT()\n",
    "\n",
    "keywords = key_model1.extract_keywords(doc)\n",
    "print(keywords)"
   ]
  },
  {
   "cell_type": "code",
   "execution_count": null,
   "id": "fe431f67",
   "metadata": {},
   "outputs": [],
   "source": []
  },
  {
   "cell_type": "code",
   "execution_count": null,
   "id": "472745dc",
   "metadata": {},
   "outputs": [],
   "source": []
  }
 ],
 "metadata": {
  "kernelspec": {
   "display_name": "Python 3 (ipykernel)",
   "language": "python",
   "name": "python3"
  },
  "language_info": {
   "codemirror_mode": {
    "name": "ipython",
    "version": 3
   },
   "file_extension": ".py",
   "mimetype": "text/x-python",
   "name": "python",
   "nbconvert_exporter": "python",
   "pygments_lexer": "ipython3",
   "version": "3.10.4"
  }
 },
 "nbformat": 4,
 "nbformat_minor": 5
}
