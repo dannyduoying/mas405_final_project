{
 "cells": [
  {
   "cell_type": "code",
   "execution_count": 1,
   "id": "1be0556c",
   "metadata": {},
   "outputs": [],
   "source": [
    "# Using TextBlob for Sentiment Analysis\n",
    "\n",
    "from textblob import TextBlob"
   ]
  },
  {
   "cell_type": "code",
   "execution_count": 4,
   "id": "2a3eacbf",
   "metadata": {},
   "outputs": [],
   "source": [
    "Feedback1 = \"The food at Radison was awesome\"\n",
    "Feedback2 = \"The food at Radison was very good\"\n",
    "\n",
    "Feedback3 = \"I hate my experience at undergrad\""
   ]
  },
  {
   "cell_type": "code",
   "execution_count": 5,
   "id": "8e58af55",
   "metadata": {},
   "outputs": [
    {
     "name": "stdout",
     "output_type": "stream",
     "text": [
      "Sentiment(polarity=1.0, subjectivity=1.0)\n",
      "Sentiment(polarity=0.9099999999999999, subjectivity=0.7800000000000001)\n",
      "Sentiment(polarity=-0.8, subjectivity=0.9)\n"
     ]
    }
   ],
   "source": [
    "blob1 = TextBlob(Feedback1)\n",
    "blob2 = TextBlob(Feedback2)\n",
    "blob3 = TextBlob(Feedback3)\n",
    "print(blob1.sentiment)\n",
    "print(blob2.sentiment)\n",
    "print(blob3.sentiment)"
   ]
  },
  {
   "cell_type": "markdown",
   "id": "1db4e6c9",
   "metadata": {},
   "source": [
    "## Emotion Detection"
   ]
  },
  {
   "cell_type": "code",
   "execution_count": 6,
   "id": "369c56ee",
   "metadata": {},
   "outputs": [],
   "source": [
    "# What about emotion detect? \n",
    "# Sadness, Disgust, Anger, Fear, Surprise, and Happiness\n",
    "# Use Lexicon/ Deep Learning, \n",
    "# Use NRCLex for Emotion Detection\n",
    "\n",
    "from nrclex import NRCLex\n",
    "\n",
    "import numpy as np\n",
    "import pandas as pd"
   ]
  },
  {
   "cell_type": "code",
   "execution_count": 7,
   "id": "4ff73039",
   "metadata": {},
   "outputs": [
    {
     "name": "stdout",
     "output_type": "stream",
     "text": [
      "\n",
      " ['The', 'food', 'at', 'Radison', 'was', 'awesome']\n",
      "\n",
      " {'food': ['joy', 'positive', 'trust']}\n",
      "\n",
      " ['The', 'food', 'at', 'Radison', 'was', 'very', 'good']\n",
      "\n",
      " {'food': ['joy', 'positive', 'trust'], 'good': ['anticipation', 'joy', 'positive', 'surprise', 'trust']}\n"
     ]
    }
   ],
   "source": [
    "emotion1 = NRCLex(Feedback1)\n",
    "emotion2 = NRCLex(Feedback2)\n",
    "\n",
    "# Classify emotion for feedback 1\n",
    "print('\\n', emotion1.words)\n",
    "print('\\n', emotion1.affect_dict)\n",
    "\n",
    "# Classify emotion for feedback 2\n",
    "print('\\n', emotion2.words)\n",
    "print('\\n', emotion2.affect_dict)"
   ]
  },
  {
   "cell_type": "code",
   "execution_count": 8,
   "id": "bf34edf4",
   "metadata": {},
   "outputs": [
    {
     "name": "stdout",
     "output_type": "stream",
     "text": [
      "\n",
      " {'humbled': ['positive', 'sadness'], 'encourage': ['joy', 'positive', 'trust'], 'growth': ['positive'], 'build': ['positive']}\n",
      "\n",
      " {'positive': 4, 'sadness': 1, 'joy': 1, 'trust': 1}\n"
     ]
    }
   ],
   "source": [
    "text = 'I am humbled and honored to be surrounded by colleagues who challenge.'\\\n",
    "        'support and encourage me at each stage.'\\\n",
    "        'Through them, I have learned work is not just'\\\n",
    "        'about the tasks we set out to do, but the experiences,'\\\n",
    "        'growth and friendships we build along the way.'\n",
    "\n",
    "emotion = NRCLex(text)\n",
    "print('\\n', emotion.affect_dict)\n",
    "print('\\n', emotion.raw_emotion_scores)"
   ]
  },
  {
   "cell_type": "code",
   "execution_count": 9,
   "id": "9d569b21",
   "metadata": {},
   "outputs": [
    {
     "name": "stdout",
     "output_type": "stream",
     "text": [
      "\n",
      " [('positive', 0.5714285714285714)]\n"
     ]
    }
   ],
   "source": [
    "print('\\n', emotion.top_emotions)"
   ]
  },
  {
   "cell_type": "code",
   "execution_count": 10,
   "id": "da4e1120",
   "metadata": {},
   "outputs": [
    {
     "name": "stdout",
     "output_type": "stream",
     "text": [
      "\n",
      " {'fear': 0.0, 'anger': 0.0, 'anticip': 0.0, 'trust': 0.14285714285714285, 'surprise': 0.0, 'positive': 0.5714285714285714, 'negative': 0.0, 'sadness': 0.14285714285714285, 'disgust': 0.0, 'joy': 0.14285714285714285}\n"
     ]
    }
   ],
   "source": [
    "print('\\n', emotion.affect_frequencies)"
   ]
  },
  {
   "cell_type": "code",
   "execution_count": null,
   "id": "2fc01cd8",
   "metadata": {},
   "outputs": [],
   "source": []
  }
 ],
 "metadata": {
  "kernelspec": {
   "display_name": "Python 3 (ipykernel)",
   "language": "python",
   "name": "python3"
  },
  "language_info": {
   "codemirror_mode": {
    "name": "ipython",
    "version": 3
   },
   "file_extension": ".py",
   "mimetype": "text/x-python",
   "name": "python",
   "nbconvert_exporter": "python",
   "pygments_lexer": "ipython3",
   "version": "3.9.7"
  }
 },
 "nbformat": 4,
 "nbformat_minor": 5
}
